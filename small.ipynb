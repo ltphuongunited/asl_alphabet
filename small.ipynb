{
 "cells": [
  {
   "cell_type": "code",
   "execution_count": 1,
   "metadata": {},
   "outputs": [
    {
     "name": "stderr",
     "output_type": "stream",
     "text": [
      "2022-12-24 00:58:50.875113: I tensorflow/core/util/util.cc:169] oneDNN custom operations are on. You may see slightly different numerical results due to floating-point round-off errors from different computation orders. To turn them off, set the environment variable `TF_ENABLE_ONEDNN_OPTS=0`.\n",
      "2022-12-24 00:58:50.877584: W tensorflow/stream_executor/platform/default/dso_loader.cc:64] Could not load dynamic library 'libcudart.so.11.0'; dlerror: libcudart.so.11.0: cannot open shared object file: No such file or directory; LD_LIBRARY_PATH: :/usr/local/cuda/lib64\n",
      "2022-12-24 00:58:50.877590: I tensorflow/stream_executor/cuda/cudart_stub.cc:29] Ignore above cudart dlerror if you do not have a GPU set up on your machine.\n"
     ]
    }
   ],
   "source": [
    "import numpy as np\n",
    "import pandas as pd\n",
    "import os\n",
    "import keras\n",
    "from keras.layers import *\n",
    "from keras.preprocessing.image import ImageDataGenerator\n",
    "from keras.models import Sequential\n",
    "from keras import regularizers\n",
    "from sklearn.model_selection import train_test_split\n",
    "import cv2\n",
    "import matplotlib.pyplot as plt\n",
    "import seaborn as sns\n",
    "import glob"
   ]
  },
  {
   "cell_type": "code",
   "execution_count": 2,
   "metadata": {},
   "outputs": [],
   "source": [
    "train_dir = 'data/train_small'\n",
    "IMG_SIZE = 256,256"
   ]
  },
  {
   "cell_type": "code",
   "execution_count": 3,
   "metadata": {},
   "outputs": [
    {
     "name": "stdout",
     "output_type": "stream",
     "text": [
      "Found 2698 files belonging to 27 classes.\n",
      "Using 2429 files for training.\n",
      "Found 2698 files belonging to 27 classes.\n",
      "Using 269 files for validation.\n"
     ]
    },
    {
     "name": "stderr",
     "output_type": "stream",
     "text": [
      "2022-12-24 00:58:52.301964: I tensorflow/stream_executor/cuda/cuda_gpu_executor.cc:975] successful NUMA node read from SysFS had negative value (-1), but there must be at least one NUMA node, so returning NUMA node zero\n",
      "2022-12-24 00:58:52.302244: W tensorflow/stream_executor/platform/default/dso_loader.cc:64] Could not load dynamic library 'libcudart.so.11.0'; dlerror: libcudart.so.11.0: cannot open shared object file: No such file or directory; LD_LIBRARY_PATH: /home/tienthinh/.local/lib/python3.8/site-packages/cv2/../../lib64::/usr/local/cuda/lib64\n",
      "2022-12-24 00:58:52.302284: W tensorflow/stream_executor/platform/default/dso_loader.cc:64] Could not load dynamic library 'libcublas.so.11'; dlerror: libcublas.so.11: cannot open shared object file: No such file or directory; LD_LIBRARY_PATH: /home/tienthinh/.local/lib/python3.8/site-packages/cv2/../../lib64::/usr/local/cuda/lib64\n",
      "2022-12-24 00:58:52.302319: W tensorflow/stream_executor/platform/default/dso_loader.cc:64] Could not load dynamic library 'libcublasLt.so.11'; dlerror: libcublasLt.so.11: cannot open shared object file: No such file or directory; LD_LIBRARY_PATH: /home/tienthinh/.local/lib/python3.8/site-packages/cv2/../../lib64::/usr/local/cuda/lib64\n",
      "2022-12-24 00:58:52.302354: W tensorflow/stream_executor/platform/default/dso_loader.cc:64] Could not load dynamic library 'libcufft.so.10'; dlerror: libcufft.so.10: cannot open shared object file: No such file or directory; LD_LIBRARY_PATH: /home/tienthinh/.local/lib/python3.8/site-packages/cv2/../../lib64::/usr/local/cuda/lib64\n",
      "2022-12-24 00:58:52.302389: W tensorflow/stream_executor/platform/default/dso_loader.cc:64] Could not load dynamic library 'libcurand.so.10'; dlerror: libcurand.so.10: cannot open shared object file: No such file or directory; LD_LIBRARY_PATH: /home/tienthinh/.local/lib/python3.8/site-packages/cv2/../../lib64::/usr/local/cuda/lib64\n",
      "2022-12-24 00:58:52.302423: W tensorflow/stream_executor/platform/default/dso_loader.cc:64] Could not load dynamic library 'libcusolver.so.11'; dlerror: libcusolver.so.11: cannot open shared object file: No such file or directory; LD_LIBRARY_PATH: /home/tienthinh/.local/lib/python3.8/site-packages/cv2/../../lib64::/usr/local/cuda/lib64\n",
      "2022-12-24 00:58:52.302457: W tensorflow/stream_executor/platform/default/dso_loader.cc:64] Could not load dynamic library 'libcusparse.so.11'; dlerror: libcusparse.so.11: cannot open shared object file: No such file or directory; LD_LIBRARY_PATH: /home/tienthinh/.local/lib/python3.8/site-packages/cv2/../../lib64::/usr/local/cuda/lib64\n",
      "2022-12-24 00:58:52.302490: W tensorflow/stream_executor/platform/default/dso_loader.cc:64] Could not load dynamic library 'libcudnn.so.8'; dlerror: libcudnn.so.8: cannot open shared object file: No such file or directory; LD_LIBRARY_PATH: /home/tienthinh/.local/lib/python3.8/site-packages/cv2/../../lib64::/usr/local/cuda/lib64\n",
      "2022-12-24 00:58:52.302495: W tensorflow/core/common_runtime/gpu/gpu_device.cc:1850] Cannot dlopen some GPU libraries. Please make sure the missing libraries mentioned above are installed properly if you would like to use GPU. Follow the guide at https://www.tensorflow.org/install/gpu for how to download and setup the required libraries for your platform.\n",
      "Skipping registering GPU devices...\n",
      "2022-12-24 00:58:52.302696: I tensorflow/core/platform/cpu_feature_guard.cc:193] This TensorFlow binary is optimized with oneAPI Deep Neural Network Library (oneDNN) to use the following CPU instructions in performance-critical operations:  AVX2 AVX512F AVX512_VNNI FMA\n",
      "To enable them in other operations, rebuild TensorFlow with the appropriate compiler flags.\n"
     ]
    }
   ],
   "source": [
    "train_data = tf.keras.preprocessing.image_dataset_from_directory(   \n",
    "    directory=train_dir,\n",
    "    label_mode=\"categorical\",\n",
    "    color_mode=\"rgb\",\n",
    "    image_size=IMG_SIZE,\n",
    "    seed=40,\n",
    "    batch_size=256,\n",
    "    validation_split=0.1,\n",
    "    subset='training'\n",
    ")\n",
    "\n",
    "val_data = tf.keras.preprocessing.image_dataset_from_directory( \n",
    "    directory=train_dir,\n",
    "    label_mode=\"categorical\",\n",
    "    color_mode=\"rgb\",\n",
    "    image_size=IMG_SIZE,\n",
    "    seed=40,\n",
    "    validation_split=0.1,\n",
    "    batch_size=256,\n",
    "    subset='validation',\n",
    "    interpolation=\"bilinear\"\n",
    ")"
   ]
  },
  {
   "cell_type": "code",
   "execution_count": 4,
   "metadata": {},
   "outputs": [],
   "source": [
    "from tensorflow.keras.layers.experimental import preprocessing\n",
    "\n",
    "data_augmentation = Sequential([\n",
    "    keras.layers.GaussianNoise(stddev=0.5)\n",
    "], name =\"data_augmentation\")"
   ]
  },
  {
   "cell_type": "code",
   "execution_count": 5,
   "metadata": {},
   "outputs": [
    {
     "name": "stdout",
     "output_type": "stream",
     "text": [
      "Model: \"model\"\n",
      "_________________________________________________________________\n",
      " Layer (type)                Output Shape              Param #   \n",
      "=================================================================\n",
      " input_layer (InputLayer)    [(None, 256, 256, 3)]     0         \n",
      "                                                                 \n",
      " data_augmentation (Sequenti  (None, 256, 256, 3)      0         \n",
      " al)                                                             \n",
      "                                                                 \n",
      " efficientnetb0 (Functional)  (None, None, None, 1280)  4049571  \n",
      "                                                                 \n",
      " global_average_pooling_laye  (None, 1280)             0         \n",
      " r (GlobalAveragePooling2D)                                      \n",
      "                                                                 \n",
      " dense (Dense)               (None, 256)               327936    \n",
      "                                                                 \n",
      " dropout (Dropout)           (None, 256)               0         \n",
      "                                                                 \n",
      " output_layer (Dense)        (None, 27)                6939      \n",
      "                                                                 \n",
      "=================================================================\n",
      "Total params: 4,384,446\n",
      "Trainable params: 334,875\n",
      "Non-trainable params: 4,049,571\n",
      "_________________________________________________________________\n"
     ]
    }
   ],
   "source": [
    "input_shape = (256, 256, 3)\n",
    "# base_model = tf.keras.applications.ResNet50(include_top=False)\n",
    "base_model = tf.keras.applications.EfficientNetB0(include_top=False)\n",
    "\n",
    "base_model.trainable = False\n",
    "\n",
    "# Tạo layer đầu vào\n",
    "inputs = Input(shape=input_shape, name=\"input_layer\")\n",
    "\n",
    "x = data_augmentation(inputs)\n",
    "\n",
    "# Cung cấp đầu vào cho base_model (sau khi tăng cường) và không huấn luyện nó \n",
    "x = base_model(x, training=False)\n",
    "\n",
    "# Gộp các đặc trưng đầu ra của base model\n",
    "x = GlobalAveragePooling2D(name=\"global_average_pooling_layer\")(x)\n",
    "# x = BatchNormalization(axis=-1, momentum=0.99, epsilon=0.001 )(x)\n",
    "\n",
    "# x = Dense(256, kernel_regularizer = regularizers.l2(l = 0.016),activity_regularizer=regularizers.l1(0.006),\n",
    "#                 bias_regularizer=regularizers.l1(0.006) ,activation='relu')(x)\n",
    "x = Dense(256)(x)\n",
    "x = Dropout(rate=.4)(x)  \n",
    "\n",
    "# Đặt dense layer làm đầu ra\n",
    "outputs = Dense(27, activation=\"softmax\", name=\"output_layer\")(x)\n",
    "\n",
    "# Tạo mô hình với đầu vào và đầu ra\n",
    "model = keras.Model(inputs, outputs)\n",
    "model.summary()"
   ]
  },
  {
   "cell_type": "code",
   "execution_count": 6,
   "metadata": {},
   "outputs": [],
   "source": [
    "model.compile(optimizer=tf.keras.optimizers.Adam(learning_rate=.05),loss='categorical_crossentropy', metrics=['accuracy'])"
   ]
  },
  {
   "cell_type": "code",
   "execution_count": 10,
   "metadata": {},
   "outputs": [],
   "source": [
    "from keras.callbacks import EarlyStopping\n",
    "early_stopping = EarlyStopping(monitor='val_loss', min_delta=0.1, patience=30, verbose=1)\n",
    "callbacks_list = [early_stopping]"
   ]
  },
  {
   "cell_type": "code",
   "execution_count": 11,
   "metadata": {},
   "outputs": [
    {
     "name": "stdout",
     "output_type": "stream",
     "text": [
      "Epoch 1/50\n",
      "10/10 [==============================] - 30s 3s/step - loss: 1.1935 - accuracy: 0.9559 - val_loss: 3.8892 - val_accuracy: 0.9219\n",
      "Epoch 2/50\n",
      "10/10 [==============================] - 30s 3s/step - loss: 2.2853 - accuracy: 0.9424 - val_loss: 5.4494 - val_accuracy: 0.8996\n",
      "Epoch 3/50\n",
      "10/10 [==============================] - 30s 3s/step - loss: 1.8935 - accuracy: 0.9448 - val_loss: 5.0518 - val_accuracy: 0.8810\n",
      "Epoch 4/50\n",
      "10/10 [==============================] - 30s 3s/step - loss: 2.0136 - accuracy: 0.9399 - val_loss: 8.4486 - val_accuracy: 0.8736\n",
      "Epoch 5/50\n",
      "10/10 [==============================] - 30s 3s/step - loss: 2.4749 - accuracy: 0.9411 - val_loss: 7.2257 - val_accuracy: 0.9331\n",
      "Epoch 6/50\n",
      "10/10 [==============================] - 30s 3s/step - loss: 1.9621 - accuracy: 0.9535 - val_loss: 5.4731 - val_accuracy: 0.9331\n",
      "Epoch 7/50\n",
      "10/10 [==============================] - 30s 3s/step - loss: 2.0153 - accuracy: 0.9588 - val_loss: 7.0578 - val_accuracy: 0.8959\n",
      "Epoch 8/50\n",
      "10/10 [==============================] - 30s 3s/step - loss: 2.9430 - accuracy: 0.9502 - val_loss: 8.5598 - val_accuracy: 0.9071\n",
      "Epoch 9/50\n",
      "10/10 [==============================] - 30s 3s/step - loss: 2.1968 - accuracy: 0.9601 - val_loss: 7.8062 - val_accuracy: 0.9108\n",
      "Epoch 10/50\n",
      "10/10 [==============================] - 30s 3s/step - loss: 2.2992 - accuracy: 0.9646 - val_loss: 8.4453 - val_accuracy: 0.9257\n",
      "Epoch 11/50\n",
      "10/10 [==============================] - 30s 3s/step - loss: 2.8160 - accuracy: 0.9551 - val_loss: 13.7015 - val_accuracy: 0.8848\n",
      "Epoch 12/50\n",
      "10/10 [==============================] - 30s 3s/step - loss: 2.5831 - accuracy: 0.9625 - val_loss: 9.2871 - val_accuracy: 0.9182\n",
      "Epoch 13/50\n",
      "10/10 [==============================] - 30s 3s/step - loss: 1.9333 - accuracy: 0.9642 - val_loss: 8.8991 - val_accuracy: 0.9219\n",
      "Epoch 14/50\n",
      "10/10 [==============================] - 30s 3s/step - loss: 1.8892 - accuracy: 0.9691 - val_loss: 11.3312 - val_accuracy: 0.9071\n",
      "Epoch 15/50\n",
      "10/10 [==============================] - 30s 3s/step - loss: 2.6832 - accuracy: 0.9625 - val_loss: 6.5031 - val_accuracy: 0.9405\n",
      "Epoch 16/50\n",
      "10/10 [==============================] - 31s 3s/step - loss: 2.4989 - accuracy: 0.9683 - val_loss: 7.7180 - val_accuracy: 0.9294\n",
      "Epoch 17/50\n",
      "10/10 [==============================] - 30s 3s/step - loss: 2.1128 - accuracy: 0.9724 - val_loss: 7.2738 - val_accuracy: 0.9405\n",
      "Epoch 18/50\n",
      "10/10 [==============================] - 30s 3s/step - loss: 2.6721 - accuracy: 0.9679 - val_loss: 5.3737 - val_accuracy: 0.9405\n",
      "Epoch 19/50\n",
      "10/10 [==============================] - 30s 3s/step - loss: 2.5207 - accuracy: 0.9720 - val_loss: 12.3178 - val_accuracy: 0.9368\n",
      "Epoch 20/50\n",
      "10/10 [==============================] - 30s 3s/step - loss: 2.9679 - accuracy: 0.9708 - val_loss: 10.6718 - val_accuracy: 0.9219\n",
      "Epoch 21/50\n",
      "10/10 [==============================] - 30s 3s/step - loss: 2.3023 - accuracy: 0.9778 - val_loss: 11.8985 - val_accuracy: 0.9294\n",
      "Epoch 22/50\n",
      "10/10 [==============================] - 30s 3s/step - loss: 2.7346 - accuracy: 0.9691 - val_loss: 9.4607 - val_accuracy: 0.9182\n",
      "Epoch 23/50\n",
      "10/10 [==============================] - 30s 3s/step - loss: 2.7502 - accuracy: 0.9712 - val_loss: 8.2942 - val_accuracy: 0.9033\n",
      "Epoch 24/50\n",
      "10/10 [==============================] - 30s 3s/step - loss: 4.1310 - accuracy: 0.9667 - val_loss: 16.6333 - val_accuracy: 0.9145\n",
      "Epoch 25/50\n",
      "10/10 [==============================] - 30s 3s/step - loss: 2.4617 - accuracy: 0.9761 - val_loss: 15.2490 - val_accuracy: 0.9257\n",
      "Epoch 26/50\n",
      "10/10 [==============================] - 30s 3s/step - loss: 1.7959 - accuracy: 0.9807 - val_loss: 8.9234 - val_accuracy: 0.9368\n",
      "Epoch 27/50\n",
      "10/10 [==============================] - 30s 3s/step - loss: 4.0895 - accuracy: 0.9724 - val_loss: 11.6107 - val_accuracy: 0.9368\n",
      "Epoch 28/50\n",
      "10/10 [==============================] - 30s 3s/step - loss: 2.2326 - accuracy: 0.9745 - val_loss: 15.2648 - val_accuracy: 0.8996\n",
      "Epoch 29/50\n",
      "10/10 [==============================] - 30s 3s/step - loss: 2.2191 - accuracy: 0.9774 - val_loss: 19.2866 - val_accuracy: 0.9182\n",
      "Epoch 30/50\n",
      "10/10 [==============================] - 30s 3s/step - loss: 2.7892 - accuracy: 0.9745 - val_loss: 18.6184 - val_accuracy: 0.9257\n",
      "Epoch 31/50\n",
      "10/10 [==============================] - 30s 3s/step - loss: 2.6715 - accuracy: 0.9757 - val_loss: 19.7389 - val_accuracy: 0.9182\n",
      "Epoch 31: early stopping\n"
     ]
    }
   ],
   "source": [
    "model_hist = model.fit(train_data,validation_data = val_data, epochs = 50, callbacks=callbacks_list)"
   ]
  },
  {
   "cell_type": "code",
   "execution_count": 13,
   "metadata": {},
   "outputs": [],
   "source": [
    "model.save('model27.h5')"
   ]
  }
 ],
 "metadata": {
  "kernelspec": {
   "display_name": "base",
   "language": "python",
   "name": "python3"
  },
  "language_info": {
   "codemirror_mode": {
    "name": "ipython",
    "version": 3
   },
   "file_extension": ".py",
   "mimetype": "text/x-python",
   "name": "python",
   "nbconvert_exporter": "python",
   "pygments_lexer": "ipython3",
   "version": "3.8.8 (default, Apr 13 2021, 19:58:26) \n[GCC 7.3.0]"
  },
  "orig_nbformat": 4,
  "vscode": {
   "interpreter": {
    "hash": "caf61c5f2d891929b299646a403e8ccb46eb10e0ccda960b151e011b2b543485"
   }
  }
 },
 "nbformat": 4,
 "nbformat_minor": 2
}
